{
    "cells": [
        {
            "metadata": {
                "collapsed": true
            },
            "cell_type": "markdown",
            "source": "# My Jupyter Notebook on IBM Watson Studio"
        },
        {
            "metadata": {},
            "cell_type": "markdown",
            "source": "#### Amal\nData Analyst"
        },
        {
            "metadata": {},
            "cell_type": "markdown",
            "source": "<i>I am interested in data science because I love to work with numbers and data.<i/>"
        },
        {
            "metadata": {},
            "cell_type": "markdown",
            "source": "### Code for Hello World in python is given below"
        },
        {
            "metadata": {},
            "cell_type": "code",
            "source": "print('Hello World')",
            "execution_count": 1,
            "outputs": [
                {
                    "output_type": "stream",
                    "text": "Hello World\n",
                    "name": "stdout"
                }
            ]
        },
        {
            "metadata": {},
            "cell_type": "markdown",
            "source": "<ol>\n<li>Hi</li>\n</ol>\n<ul>\n<li>Hello</li>\n</ul>\n<tr>\n<table>\n<tr>\n<th>Hi</th>  \n<th>Namaste</th>  \n</tr>\n<tr>\n<td>Hey</td>\n<td>Namaste</td>\n</tr>\n</table>\n\n"
        },
        {
            "metadata": {},
            "cell_type": "code",
            "source": "",
            "execution_count": null,
            "outputs": []
        }
    ],
    "metadata": {
        "kernelspec": {
            "name": "python3",
            "display_name": "Python 3.9",
            "language": "python"
        },
        "language_info": {
            "name": "python",
            "version": "3.9.13",
            "mimetype": "text/x-python",
            "codemirror_mode": {
                "name": "ipython",
                "version": 3
            },
            "pygments_lexer": "ipython3",
            "nbconvert_exporter": "python",
            "file_extension": ".py"
        }
    },
    "nbformat": 4,
    "nbformat_minor": 1
}